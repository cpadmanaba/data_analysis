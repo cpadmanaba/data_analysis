{
 "cells": [
  {
   "cell_type": "markdown",
   "metadata": {},
   "source": [
    "\n",
    "# Data Preparation\n",
    "\n",
    " \n",
    " \n",
    " \n",
    "In this note, we will learn how to prepare raw data for data analysis. We will use Python scripts for data analysis.  \n",
    "\n",
    "The first steps in any Python script for data analysis is usually importing the necessary packages **numpy**, **panda** and **matplotlib**. You may want to learn these packages, by following the links\n",
    "provided at the bottom of this note.\n"
   ]
  },
  {
   "cell_type": "code",
   "execution_count": 1,
   "metadata": {},
   "outputs": [
    {
     "name": "stdout",
     "output_type": "stream",
     "text": [
      "Using matplotlib backend: Qt5Agg\n"
     ]
    }
   ],
   "source": [
    "import numpy as np\n",
    "import pandas as pd\n",
    "import matplotlib.pyplot as plt\n",
    "%matplotlib"
   ]
  },
  {
   "attachments": {
    "image.png": {
     "image/png": "[encoded data removed]"
    }
   },
   "cell_type": "markdown",
   "metadata": {},
   "source": [
    "**Reading the Dataset**\n",
    "\n",
    "We have data contained in an Excel sheet as *Data.csv*. Here is the content of this file:\n",
    "\n",
    "![image.png](attachment:image.png)\n",
    "\n",
    "You may want other dataset for your own experiment. Please follow the links provided at the bottom of this note. They will direct you to the dataset publicly available on the net. As for now we will read the above CSV file, retrieve the dataset and store the dataset into a data frame *mydataset* and print it. The type of the *mydataset* is DataFrame of the *pandas* package.\n"
   ]
  },
  {
   "cell_type": "code",
   "execution_count": 2,
   "metadata": {
    "scrolled": true
   },
   "outputs": [
    {
     "name": "stdout",
     "output_type": "stream",
     "text": [
      "   Country   Age   Salary Purchased\n",
      "0   France  44.0  72000.0        No\n",
      "1    Spain  27.0  48000.0       Yes\n",
      "2  Germany  30.0  54000.0        No\n",
      "3    Spain  38.0  61000.0        No\n",
      "4  Germany  40.0      NaN       Yes\n",
      "5   France  35.0  58000.0       Yes\n",
      "6    Spain   NaN  52000.0        No\n",
      "7   France  48.0  79000.0       Yes\n",
      "8  Germany  50.0  83000.0        No\n",
      "9   France  37.0  67000.0       Yes\n"
     ]
    },
    {
     "data": {
      "text/plain": [
       "pandas.core.frame.DataFrame"
      ]
     },
     "execution_count": 2,
     "metadata": {},
     "output_type": "execute_result"
    }
   ],
   "source": [
    "mydataset = pd.read_csv('Data.csv')\n",
    "print(mydataset)\n",
    "type(mydataset)"
   ]
  },
  {
   "cell_type": "markdown",
   "metadata": {},
   "source": [
    "The input data *mydataset* (with type DataFrame of *panda*) has 10 records. Each has 3 independent variables (IV), and 1 dependent variable (DV). \n",
    "The IVs are *Country*, *Age* and *Salary*, and the DV is *Purchased*. It means that the decision for *Purchased* depends on the variables *Country*, *Age* and *Salary*. \n",
    "\n",
    "Other names for IV are predictor, feature, or attribute, while for DV, output, or outcome. We will use the term predictor and outcome for short. Now we need to separate the raw dataset into predictor and its outcome."
   ]
  },
  {
   "cell_type": "code",
   "execution_count": 9,
   "metadata": {},
   "outputs": [
    {
     "name": "stdout",
     "output_type": "stream",
     "text": [
      "The X:\n",
      " [['France' 44.0 72000.0]\n",
      " ['Spain' 27.0 48000.0]\n",
      " ['Germany' 30.0 54000.0]\n",
      " ['Spain' 38.0 61000.0]\n",
      " ['Germany' 40.0 nan]\n",
      " ['France' 35.0 58000.0]\n",
      " ['Spain' nan 52000.0]\n",
      " ['France' 48.0 79000.0]\n",
      " ['Germany' 50.0 83000.0]\n",
      " ['France' 37.0 67000.0]]\n",
      "\n",
      "The y:\n",
      " ['No' 'Yes' 'No' 'No' 'Yes' 'Yes' 'No' 'Yes' 'No' 'Yes']\n"
     ]
    }
   ],
   "source": [
    "X = mydataset.iloc[:, :-1].values  # Extract all rows, and all columns but minus 1, i.e. last column removed\n",
    "y = mydataset.iloc[:, 3].values    # Extract all rows and only one column less than 3, i.e. column 2\n",
    "                                   # Note that row and column number start with 0  \n",
    "print('The X:\\n', X)\n",
    "print('\\nThe y:\\n', y)"
   ]
  },
  {
   "cell_type": "markdown",
   "metadata": {},
   "source": [
    "The *-X-* and the *-y-* are arrays defined by *numpy*:"
   ]
  },
  {
   "cell_type": "code",
   "execution_count": 10,
   "metadata": {},
   "outputs": [
    {
     "name": "stdout",
     "output_type": "stream",
     "text": [
      "Type of X:  <class 'numpy.ndarray'>\n",
      "Type of y:  <class 'numpy.ndarray'>\n"
     ]
    }
   ],
   "source": [
    "print(\"Type of X: \", type(X))\n",
    "print(\"Type of y: \", type(y))"
   ]
  },
  {
   "cell_type": "markdown",
   "metadata": {},
   "source": [
    "**Handling The Missing Data**\n",
    "\n",
    "The *-X-*  has missing data, which are replaced with *nan*. This missing data comes from the empty cells in the CSV file. The technique to deal with this missing data is to fill it with the average of its column or row. We use *Imputer* class from package *sklearn*, and then create an object *imputer*. Here how to do it:\n",
    "\n",
    "Firstly, create an object of class *Imputer*. This is a class defined in the *sklearn* package:"
   ]
  },
  {
   "cell_type": "code",
   "execution_count": 12,
   "metadata": {},
   "outputs": [],
   "source": [
    "from sklearn.preprocessing import Imputer\n",
    "myimputer = Imputer(missing_values = 'NaN', strategy = 'mean', axis = 0) # axis = 0 for averaging data in the column\n",
    "                                                                       # strategy = 'mean' for averaging"
   ]
  },
  {
   "cell_type": "markdown",
   "metadata": {},
   "source": [
    "Now use the object *myimputer* to convert the *-X-*, then get back *-X-* from the *myimputer*. You will see that the *nan* have been filled with the average of all data of the column. See that the *nan* has been replaced with value:"
   ]
  },
  {
   "cell_type": "code",
   "execution_count": 13,
   "metadata": {},
   "outputs": [
    {
     "name": "stdout",
     "output_type": "stream",
     "text": [
      "[['France' 44.0 72000.0]\n",
      " ['Spain' 27.0 48000.0]\n",
      " ['Germany' 30.0 54000.0]\n",
      " ['Spain' 38.0 61000.0]\n",
      " ['Germany' 40.0 63777.77777777778]\n",
      " ['France' 35.0 58000.0]\n",
      " ['Spain' 38.77777777777778 52000.0]\n",
      " ['France' 48.0 79000.0]\n",
      " ['Germany' 50.0 83000.0]\n",
      " ['France' 37.0 67000.0]]\n"
     ]
    }
   ],
   "source": [
    "myimputer = myimputer.fit(X[:, 1:3]) # all rows, but only column 1 and subsequent columns less than 3\n",
    "X[:, 1:3] = myimputer.transform(X[:, 1:3])\n",
    "print(X)"
   ]
  },
  {
   "cell_type": "markdown",
   "metadata": {},
   "source": [
    "**Writing Back Dataset into Files**\n",
    "\n",
    "You may want to save the dataset to a CSV file, here is the way to do that:"
   ]
  },
  {
   "cell_type": "code",
   "execution_count": 14,
   "metadata": {},
   "outputs": [],
   "source": [
    "Z = mydataset.iloc[:, :].values # get all dataset into an numpy array size (10,4)\n",
    "myimputer = Imputer(missing_values = 'NaN', strategy='mean', axis=0)\n",
    "myimputer = myimputer.fit(Z[:, 1:3]) # fit with Z col 1 to 2, i.e. Age and Salary\n",
    "Z[:, 1:3] = myimputer.transform(Z[:, 1:3])\n",
    "\n",
    "# now write to the CSV files with various styles\n",
    "pd.DataFrame(Z).to_csv(\"DataZ-0.csv\")\n",
    "pd.DataFrame(Z).to_csv(\"DataZ-1.csv\", header=None, index=None)\n",
    "pd.DataFrame(Z).to_csv(\"DataZ-2.csv\", header=['TheCountry','TheAge','TheSalary','Purchased'], index=None)"
   ]
  },
  {
   "attachments": {
    "image.png": {
     "image/png": "[encoded data removed]"
    }
   },
   "cell_type": "markdown",
   "metadata": {},
   "source": [
    "Here is the *DataZ-0.csv*:\n",
    "![image.png](attachment:image.png)"
   ]
  },
  {
   "attachments": {
    "image.png": {
     "image/png": "[encoded data removed]"
    }
   },
   "cell_type": "markdown",
   "metadata": {},
   "source": [
    "Here is the *DataZ-1.csv*:\n",
    "![image.png](attachment:image.png)"
   ]
  },
  {
   "attachments": {
    "image.png": {
     "image/png": "[encoded data removed]"
    }
   },
   "cell_type": "markdown",
   "metadata": {},
   "source": [
    "Here is the *DataZ-2.csv*:\n",
    "![image.png](attachment:image.png)"
   ]
  },
  {
   "cell_type": "markdown",
   "metadata": {},
   "source": [
    "**Handling Categorical Data**\n",
    "\n",
    "The predictor array *-X-* has categorical data in the form of string in col-0. This string variable cannot be included into a numerical data analysis. So we will convert this categorical data into numeric.\n",
    "\n",
    "Array *-X-* has col-0 *'France', 'Germany'* and *'Spain'*. We can make a label on this category, and encode them into numeric. Encoding is ordered based on alphabet. Please notice the col-0 of *-X-*, after conversion: \n"
   ]
  },
  {
   "cell_type": "code",
   "execution_count": 17,
   "metadata": {},
   "outputs": [
    {
     "name": "stdout",
     "output_type": "stream",
     "text": [
      "The X: \n",
      " [[0 44.0 72000.0]\n",
      " [2 27.0 48000.0]\n",
      " [1 30.0 54000.0]\n",
      " [2 38.0 61000.0]\n",
      " [1 40.0 63777.77777777778]\n",
      " [0 35.0 58000.0]\n",
      " [2 38.77777777777778 52000.0]\n",
      " [0 48.0 79000.0]\n",
      " [1 50.0 83000.0]\n",
      " [0 37.0 67000.0]]\n"
     ]
    }
   ],
   "source": [
    "from sklearn.preprocessing import LabelEncoder\n",
    "labelencoder_X = LabelEncoder() # create an object\n",
    "X[:, 0] = labelencoder_X.fit_transform(X[:, 0])  # encode the col-0 into numeric\n",
    "print(\"The X: \\n\", X)"
   ]
  },
  {
   "cell_type": "markdown",
   "metadata": {},
   "source": [
    "There is problem here however. Col-0 is numeric but there shouldn't be that *France* (encoded to 0) is lower than *Spain* (encoded to 2). It is simply encoding the label, but not putting values to it. So we will convert col-0 by enhancing it into categorical/label columns:"
   ]
  },
  {
   "cell_type": "code",
   "execution_count": 18,
   "metadata": {},
   "outputs": [
    {
     "name": "stdout",
     "output_type": "stream",
     "text": [
      "The Xcoded:\n",
      " [[1.0e+00 0.0e+00 0.0e+00 4.4e+01 7.2e+04]\n",
      " [0.0e+00 0.0e+00 1.0e+00 2.7e+01 4.8e+04]]\n",
      "\n",
      "The shape of Xcoded: (10, 5)\n"
     ]
    }
   ],
   "source": [
    "from sklearn.preprocessing import OneHotEncoder\n",
    "onehotencoder_X = OneHotEncoder(categorical_features = [0]) # enhance col-0\n",
    "Xcoded = onehotencoder_X.fit_transform(X).toarray()\n",
    "print(\"The Xcoded:\\n\", Xcoded[0:2,:])\n",
    "print(\"\\nThe shape of Xcoded:\", Xcoded.shape)"
   ]
  },
  {
   "cell_type": "markdown",
   "metadata": {},
   "source": [
    "We will also encode the outcome *-y-* too:"
   ]
  },
  {
   "cell_type": "code",
   "execution_count": 20,
   "metadata": {},
   "outputs": [
    {
     "name": "stdout",
     "output_type": "stream",
     "text": [
      "The y: \n",
      " [0 1 0 0 1 1 0 1 0 1]\n"
     ]
    }
   ],
   "source": [
    "labelencoder_y = LabelEncoder() # create an object\n",
    "y = labelencoder_y.fit_transform(y)  # please check the Y\n",
    "print(\"The y: \\n\", y)"
   ]
  },
  {
   "cell_type": "markdown",
   "metadata": {},
   "source": [
    ".\n",
    "\n",
    "**Dummy Variable Trap**\n",
    "\n",
    "If you notice the *-Xcoded-*, there are col-0, col-1 and col-3 as result of converting categorical variable into numerical variable. These 3 columns, bring duplicated information. Let us print thesse 3 columns for all rows:"
   ]
  },
  {
   "cell_type": "code",
   "execution_count": 21,
   "metadata": {},
   "outputs": [
    {
     "name": "stdout",
     "output_type": "stream",
     "text": [
      "[[1. 0. 0.]\n",
      " [0. 0. 1.]\n",
      " [0. 1. 0.]\n",
      " [0. 0. 1.]\n",
      " [0. 1. 0.]\n",
      " [1. 0. 0.]\n",
      " [0. 0. 1.]\n",
      " [1. 0. 0.]\n",
      " [0. 1. 0.]\n",
      " [1. 0. 0.]]\n"
     ]
    }
   ],
   "source": [
    "print(Xcoded[:,0:3])"
   ]
  },
  {
   "cell_type": "markdown",
   "metadata": {},
   "source": [
    "Col-0 is basically a dummy variable since the information contained is also contained by col-1 and col-2. Notice that col-0 will only be '1' when col-1 and col-2 are both '0'. So the machine does not need col-0, as its impact on the outcome is the same as when col-1 and col-3 are both '0'. Otherwise, it could trap the machine to process unnecessary data and slow down the speed of analysis.\n",
    "\n",
    "From binary number perspective, we need to encode 3 categories, so 2 bits are sufficient, which are represented by col-1 and col-2. \n",
    "\n",
    "It then allows us to remove col-0:"
   ]
  },
  {
   "cell_type": "code",
   "execution_count": 22,
   "metadata": {},
   "outputs": [
    {
     "name": "stdout",
     "output_type": "stream",
     "text": [
      "The Xcodedclean: \n",
      " [[0.00000000e+00 0.00000000e+00 4.40000000e+01 7.20000000e+04]\n",
      " [0.00000000e+00 1.00000000e+00 2.70000000e+01 4.80000000e+04]\n",
      " [1.00000000e+00 0.00000000e+00 3.00000000e+01 5.40000000e+04]\n",
      " [0.00000000e+00 1.00000000e+00 3.80000000e+01 6.10000000e+04]\n",
      " [1.00000000e+00 0.00000000e+00 4.00000000e+01 6.37777778e+04]\n",
      " [0.00000000e+00 0.00000000e+00 3.50000000e+01 5.80000000e+04]\n",
      " [0.00000000e+00 1.00000000e+00 3.87777778e+01 5.20000000e+04]\n",
      " [0.00000000e+00 0.00000000e+00 4.80000000e+01 7.90000000e+04]\n",
      " [1.00000000e+00 0.00000000e+00 5.00000000e+01 8.30000000e+04]\n",
      " [0.00000000e+00 0.00000000e+00 3.70000000e+01 6.70000000e+04]]\n",
      "Shape of Xcodedclean:  (10, 4)\n"
     ]
    }
   ],
   "source": [
    "Xcodedclean = Xcoded[:, 1:]\n",
    "print(\"The Xcodedclean: \\n\", Xcodedclean)\n",
    "print(\"Shape of Xcodedclean: \", Xcodedclean.shape)"
   ]
  },
  {
   "cell_type": "markdown",
   "metadata": {},
   "source": [
    "Let's transfer the *-Xcodedclean-* to the original predictor array *-X-*:"
   ]
  },
  {
   "cell_type": "code",
   "execution_count": 23,
   "metadata": {},
   "outputs": [],
   "source": [
    "X = Xcodedclean\n",
    "np.savetxt(\"Data-X.csv\", X, delimiter=\",\") # Let's save teh X into a CSV"
   ]
  },
  {
   "attachments": {
    "x-predictor.jpg": {
     "image/jpeg": "[encoded data removed]"
    }
   },
   "cell_type": "markdown",
   "metadata": {},
   "source": [
    ".\n",
    "\n",
    "**Scaling The Variables**\n",
    "\n",
    "If we look at the predictor *-X-* ( I have saved it into *Data-X.csv*), there is unscaled range of data between *Salary* and *Age* predictor. It can cause problem as the machine may ignore the *Age* due to very low value as compared with the *Salary*. So we need to scale the predictor. \n",
    "\n",
    "Note that the machine is interested in predicting the impact of each independent variable to the outcome, not on the absolute value of the predictor.\n",
    "\n",
    "![x-predictor.jpg](attachment:x-predictor.jpg)\n",
    "\n",
    "So let us do the scaling:"
   ]
  },
  {
   "cell_type": "code",
   "execution_count": 24,
   "metadata": {},
   "outputs": [
    {
     "name": "stdout",
     "output_type": "stream",
     "text": [
      "[[-6.54653671e-01 -6.54653671e-01  7.58874362e-01  7.49473254e-01]\n",
      " [-6.54653671e-01  1.52752523e+00 -1.71150388e+00 -1.43817841e+00]\n",
      " [ 1.52752523e+00 -6.54653671e-01 -1.27555478e+00 -8.91265492e-01]\n",
      " [-6.54653671e-01  1.52752523e+00 -1.13023841e-01 -2.53200424e-01]\n",
      " [ 1.52752523e+00 -6.54653671e-01  1.77608893e-01  6.63219199e-16]]\n"
     ]
    }
   ],
   "source": [
    "from sklearn.preprocessing import StandardScaler\n",
    "sc_X = StandardScaler() # create object, for calling its method\n",
    "Xscaled = sc_X.fit_transform(X)    # fit first and then transform\n",
    "                                   # directly transform, as already fit previously\n",
    "                                   # fit with the same scaling\n",
    "print(Xscaled[0:5, :])\n",
    "np.savetxt(\"Data-Xscaled.csv\", Xscaled, delimiter=\",\") # Let's save the X into a CSV"
   ]
  },
  {
   "attachments": {
    "xscaled-predictor.jpg": {
     "image/jpeg": "[encoded data removed]"
    }
   },
   "cell_type": "markdown",
   "metadata": {},
   "source": [
    "Here now we have the same scale for both *Salary* and *Age* as below plot. As you notice, the pattern is still the same, only that the absolute value changes:\n",
    "\n",
    "![xscaled-predictor.jpg](attachment:xscaled-predictor.jpg)"
   ]
  },
  {
   "cell_type": "markdown",
   "metadata": {},
   "source": [
    ".\n",
    "\n",
    "**Training Data and Test Data**\n",
    "\n",
    "Now we will split the input data into Training Data and Test Data. Training Data is used to train the machine to learn and generate a model. The Test Data is used to test the model generated during training phase.\n",
    "\n",
    "How much is the test data set aside from the entire dataset? Typically is 20% (0.2). \n",
    "\n",
    "Here is the way to split the input dataset. Note that the split is for both predictor array and outcome array.\n",
    "\n",
    "The *X_train* and *y_train* are training data, and the *X_test* and *y_test* are test data. \n"
   ]
  },
  {
   "cell_type": "code",
   "execution_count": 25,
   "metadata": {},
   "outputs": [
    {
     "name": "stdout",
     "output_type": "stream",
     "text": [
      "The X_train: \n",
      " [[1.00000000e+00 0.00000000e+00 4.00000000e+01 6.37777778e+04]\n",
      " [0.00000000e+00 0.00000000e+00 3.70000000e+01 6.70000000e+04]\n",
      " [0.00000000e+00 1.00000000e+00 2.70000000e+01 4.80000000e+04]\n",
      " [0.00000000e+00 1.00000000e+00 3.87777778e+01 5.20000000e+04]\n",
      " [0.00000000e+00 0.00000000e+00 4.80000000e+01 7.90000000e+04]\n",
      " [0.00000000e+00 1.00000000e+00 3.80000000e+01 6.10000000e+04]\n",
      " [0.00000000e+00 0.00000000e+00 4.40000000e+01 7.20000000e+04]\n",
      " [0.00000000e+00 0.00000000e+00 3.50000000e+01 5.80000000e+04]]\n",
      "The X_test: \n",
      " [[1.0e+00 0.0e+00 3.0e+01 5.4e+04]\n",
      " [1.0e+00 0.0e+00 5.0e+01 8.3e+04]]\n",
      "The y_train: \n",
      " [1 1 1 0 1 0 0 1]\n",
      "The y_test: \n",
      " [0 0]\n"
     ]
    }
   ],
   "source": [
    "from sklearn.model_selection import train_test_split\n",
    "X_train, X_test, y_train, y_test = train_test_split(X, y, test_size=0.2, random_state=0)\n",
    "print(\"The X_train: \\n\",X_train)\n",
    "print(\"The X_test: \\n\",X_test)\n",
    "print(\"The y_train: \\n\",y_train)\n",
    "print(\"The y_test: \\n\",y_test)"
   ]
  },
  {
   "cell_type": "markdown",
   "metadata": {},
   "source": [
    ".\n",
    "\n",
    "**Summary**\n",
    "\n",
    "The procedure to prepare raw data before any data analysis is performed, ususally comprises the following steps:\n",
    "\n",
    "1. Reading a dataset file\n",
    "2. Handling the missing data\n",
    "3. Convert the categorical variable\n",
    "4. Resolving dummy variable trap\n",
    "5. Scaling the variables\n",
    "6. Splitting into training dan test data\n",
    "\n",
    "Not every step is necessary in preparing the input data. For example, in particular situation scaling the variable may not be necessary, as all variables are already in acceptable value range when compared each other. Or no need to deal with any dummy variable, as there is no categorical variable involved.\n"
   ]
  },
  {
   "cell_type": "markdown",
   "metadata": {},
   "source": [
    ".\n",
    "\n",
    "**Resources**\n",
    "\n",
    "\n",
    "Resources for dataset are publicly available and can be learned from this article: \n",
    "\n",
    "https://www.dataquest.io/blog/free-datasets-for-projects/\n",
    "\n",
    "https://www.stats.govt.nz/large-datasets/csv-files-for-download/\n",
    "\n",
    "\n",
    "Other useful tutorial resources :\n",
    "\n",
    "https://www.learnpython.org\n",
    "\n",
    "https://www.tutorialspoint.com/python_pandas/index.htm\n",
    "\n",
    "\n",
    "The syntax rule for writing this Markdown text can be found here:\n",
    "\n",
    "https://help.github.com/en/articles/basic-writing-and-formatting-syntax\n",
    "\n",
    "Resources for the packages:\n",
    "\n",
    "**numpy**: https://numpy.org/devdocs/user/quickstart.html\n",
    "\n",
    "**panda**: https://pandas.pydata.org/pandas-docs/stable/getting_started/tutorials.html\n",
    "\n",
    "**matplotlib** : https://matplotlib.org/tutorials/index.html\n",
    "\n",
    "**scikit-learn** : https://scikit-learn.org/stable/#\n"
   ]
  },
  {
   "cell_type": "code",
   "execution_count": null,
   "metadata": {},
   "outputs": [],
   "source": []
  },
  {
   "cell_type": "code",
   "execution_count": null,
   "metadata": {},
   "outputs": [],
   "source": []
  }
 ],
 "metadata": {
  "kernelspec": {
   "display_name": "Python 3",
   "language": "python",
   "name": "python3"
  },
  "language_info": {
   "codemirror_mode": {
    "name": "ipython",
    "version": 3
   },
   "file_extension": ".py",
   "mimetype": "text/x-python",
   "name": "python",
   "nbconvert_exporter": "python",
   "pygments_lexer": "ipython3",
   "version": "3.7.0"
  }
 },
 "nbformat": 4,
 "nbformat_minor": 2
}
