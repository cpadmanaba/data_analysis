{
 "cells": [
  {
   "cell_type": "markdown",
   "metadata": {},
   "source": [
    "\n",
    "\n",
    "\n",
    "# Data Preprocessing\n",
    " \n",
    "Data preprocessing in a machine learning system generally transforms an input raw data into a dataset with format ready for further data analysis. It is necessary as the raw data may not be in the form suitable for the machine, like having an empty or missing data, non-numerical data or unscaled data. \n",
    "\n",
    "This preprocessing usually involves the following steps:\n",
    "\n",
    "- Step-1: Reading the raw data\n",
    "- Step-2: Identify features and outcome and split them\n",
    "- Step-3: Handling any missing data\n",
    "- Step-4: Handling any categorical data\n",
    "- Step-5: Scaling the features\n",
    "- Step-6: Splitting training and test data\n",
    "\n",
    "The following scripts demonstrate the procedure in data preprocessing. Firstly, we need import all the commonly necessary packages:"
   ]
  },
  {
   "cell_type": "code",
   "execution_count": 1,
   "metadata": {
    "scrolled": true
   },
   "outputs": [
    {
     "name": "stdout",
     "output_type": "stream",
     "text": [
      "\n",
      "--Importing necessary packages\n"
     ]
    }
   ],
   "source": [
    "# Importing common required packages\n",
    "print(\"\\n--Importing necessary packages\")\n",
    "import numpy as np\n",
    "import pandas as pd\n",
    "import matplotlib.pyplot as plt\n",
    "#%matplotlib notebook"
   ]
  },
  {
   "attachments": {
    "image.png": {
     "image/png": "[encoded data removed]"
    }
   },
   "cell_type": "markdown",
   "metadata": {},
   "source": [
    "## Step 1: Reading the Dataset\n",
    "\n",
    "It is common to have dataset available in an Excel Sheet as CSV file format. If it is given in a simple text format, you may need to convert it into a CSV file. Here is **Data.csv** as an example:\n",
    "\n",
    "![image.png](attachment:image.png)\n",
    "\n",
    "The *pandas* package provides the method *read_csv()* to read data from a CSV file, store it into the *pandas* data frame format (*DataFrame*).\n"
   ]
  },
  {
   "cell_type": "code",
   "execution_count": 2,
   "metadata": {
    "scrolled": false
   },
   "outputs": [
    {
     "name": "stdout",
     "output_type": "stream",
     "text": [
      "\n",
      "--The head (the first 5 records) of the dataset: \n",
      "\n",
      "    Country   Age   Salary Purchased\n",
      "0   France  44.0  72000.0        No\n",
      "1    Spain  27.0  48000.0       Yes\n",
      "2  Germany  30.0  54000.0        No\n",
      "3    Spain  38.0  61000.0        No\n",
      "4  Germany  40.0      NaN       Yes\n",
      "\n",
      "--Type of pdDataset:  <class 'pandas.core.frame.DataFrame'>\n",
      "--Shape/size of pdDataset:  (10, 4)\n",
      "--Columns name of pdDataset:  Index(['Country', 'Age', 'Salary', 'Purchased'], dtype='object')\n"
     ]
    }
   ],
   "source": [
    "pdDataset = pd.read_csv('Data.csv') # from pandas\n",
    "print('\\n--The head (the first 5 records) of the dataset: \\n\\n', pdDataset.head())\n",
    "print('\\n--Type of pdDataset: ', type(pdDataset))\n",
    "print('--Shape/size of pdDataset: ', pdDataset.shape)\n",
    "print('--Columns name of pdDataset: ', pdDataset.columns)"
   ]
  },
  {
   "cell_type": "markdown",
   "metadata": {},
   "source": [
    "The dataset *pdDataset* has 10 records (samples or datapoints). Each has 3 independent variables (IV), and 1 dependent variable (DV). \n",
    "The IVs are *Country*, *Age* and *Salary*, and the DV is *Purchased*. The *Purchased* depends on the variables *Country*, *Age* and *Salary*. Other names for IV are *predictor, feature*, or *attribute*, while for DV, *output*, *outcome* or *label*. We will use the term **feature** and **outcome** for short. "
   ]
  },
  {
   "cell_type": "markdown",
   "metadata": {},
   "source": [
    "\n",
    "## Step-2: Identify features and outcomes, and split them\n",
    "\n",
    "The *pdDataset* has three features (*Country, Age* and *Salary*) and one outcome (*Purchased*). Please note that in any dataset, there can be more than one outcome, which require us to select the one as the target for learning.  "
   ]
  },
  {
   "cell_type": "code",
   "execution_count": 3,
   "metadata": {},
   "outputs": [
    {
     "name": "stdout",
     "output_type": "stream",
     "text": [
      "\n",
      "--The type of X, the features matrix:  <class 'numpy.ndarray'>\n",
      "--The size of X:  (10, 3)\n",
      "--The X: \n",
      " [['France' 44.0 72000.0]\n",
      " ['Spain' 27.0 48000.0]\n",
      " ['Germany' 30.0 54000.0]\n",
      " ['Spain' 38.0 61000.0]\n",
      " ['Germany' 40.0 nan]\n",
      " ['France' 35.0 58000.0]\n",
      " ['Spain' nan 52000.0]\n",
      " ['France' 48.0 79000.0]\n",
      " ['Germany' 50.0 83000.0]\n",
      " ['France' 37.0 67000.0]]\n",
      "\n",
      "\n",
      "--The type of y, the outcome vector:  <class 'numpy.ndarray'>\n",
      "--The size of y:  (10,)\n",
      "--The y:\n",
      " ['No' 'Yes' 'No' 'No' 'Yes' 'Yes' 'No' 'Yes' 'No' 'Yes']\n"
     ]
    }
   ],
   "source": [
    "# Extract all rows (:), and all columns but minus 1 (:-1), i.e. last column removed\n",
    "X = pdDataset.iloc[:, :-1].values  \n",
    "\n",
    "# Extract all rows and only one column 3. Note that row and column number start with 0  \n",
    "y = pdDataset.iloc[:, 3].values    \n",
    "\n",
    "print('\\n--The type of X, the features matrix: ', type(X))\n",
    "print('--The size of X: ', X.shape)\n",
    "print('--The X: \\n', X)\n",
    "\n",
    "print('\\n\\n--The type of y, the outcome vector: ', type(y))\n",
    "print('--The size of y: ', y.shape)\n",
    "print('--The y:\\n', y)"
   ]
  },
  {
   "cell_type": "markdown",
   "metadata": {},
   "source": [
    "The *numpy* package provides the array format to store the $X$ and the $y$. The notation $X$ is commonly used as matrix for features, while $y$ for the outcome.\n",
    "There is another way to obtain the same arrays while still keeping the *DataFrame* type of *pandas*. The *DataFrame* type, however, gives a more convenient way in extracting information and visualizing it. You can learn more on it in the *pandas* documentation."
   ]
  },
  {
   "cell_type": "code",
   "execution_count": 4,
   "metadata": {},
   "outputs": [
    {
     "name": "stdout",
     "output_type": "stream",
     "text": [
      "--The type of X_col:  <class 'pandas.core.frame.DataFrame'>\n",
      "--The shape of X_col:  (10, 3)\n",
      "--X_col.head():\n",
      "    Country   Age   Salary\n",
      "0   France  44.0  72000.0\n",
      "1    Spain  27.0  48000.0\n",
      "2  Germany  30.0  54000.0\n",
      "3    Spain  38.0  61000.0\n",
      "4  Germany  40.0      NaN\n",
      "--X_col.shape:  (10, 3)\n",
      "<class 'pandas.core.frame.DataFrame'>\n",
      "RangeIndex: 10 entries, 0 to 9\n",
      "Data columns (total 3 columns):\n",
      " #   Column   Non-Null Count  Dtype  \n",
      "---  ------   --------------  -----  \n",
      " 0   Country  10 non-null     object \n",
      " 1   Age      9 non-null      float64\n",
      " 2   Salary   9 non-null      float64\n",
      "dtypes: float64(2), object(1)\n",
      "memory usage: 368.0+ bytes\n",
      "\n",
      "--X_col.info(): \n",
      " None\n",
      "\n",
      "--X_col.describe(): \n",
      "              Age        Salary\n",
      "count   9.000000      9.000000\n",
      "mean   38.777778  63777.777778\n",
      "std     7.693793  12265.579662\n",
      "min    27.000000  48000.000000\n",
      "25%    35.000000  54000.000000\n",
      "50%    38.000000  61000.000000\n",
      "75%    44.000000  72000.000000\n",
      "max    50.000000  83000.000000\n"
     ]
    }
   ],
   "source": [
    "# The X_col and y_col are remain in panda's DataFrame type \n",
    "X_col = pdDataset[['Country', 'Age', 'Salary']]      \n",
    "y_col = pdDataset[['Purchased']]\n",
    "\n",
    "print('--The type of X_col: ', type(X_col))\n",
    "print('--The shape of X_col: ', X_col.shape)\n",
    "print('--X_col.head():\\n', X_col.head())\n",
    "print('--X_col.shape: ', X_col.shape)\n",
    "\n",
    "print('\\n--X_col.info(): \\n', X_col.info())\n",
    "print('\\n--X_col.describe(): \\n', X_col.describe())"
   ]
  },
  {
   "cell_type": "markdown",
   "metadata": {},
   "source": [
    "If you want, you can convert the array's type from *DataFrame* of *pandas* to the *numpy* array:"
   ]
  },
  {
   "cell_type": "code",
   "execution_count": 5,
   "metadata": {},
   "outputs": [
    {
     "name": "stdout",
     "output_type": "stream",
     "text": [
      "--The X_arr: \n",
      " [['France' 44.0 72000.0]\n",
      " ['Spain' 27.0 48000.0]\n",
      " ['Germany' 30.0 54000.0]\n",
      " ['Spain' 38.0 61000.0]\n",
      " ['Germany' 40.0 nan]\n",
      " ['France' 35.0 58000.0]\n",
      " ['Spain' nan 52000.0]\n",
      " ['France' 48.0 79000.0]\n",
      " ['Germany' 50.0 83000.0]\n",
      " ['France' 37.0 67000.0]]\n",
      "--X_arr type:  <class 'numpy.ndarray'>\n",
      "--X_col type:  <class 'pandas.core.frame.DataFrame'>\n"
     ]
    }
   ],
   "source": [
    "X_arr = np.array(X_col) # The X_col (DataFrame) can be converted to a numpy array\n",
    "print('--The X_arr: \\n', X_arr)\n",
    "print('--X_arr type: ', type(X_arr))\n",
    "print('--X_col type: ', type(X_col))"
   ]
  },
  {
   "cell_type": "markdown",
   "metadata": {},
   "source": [
    "### Step 3: Handling The Missing Data\n",
    "\n",
    "The $X$  has missing data, which are replaced with *nan* or *NaN*. This missing data comes from the empty cells in the CSV file. \n",
    "One technique to deal with this missing data is to fill them with the average of its column. We will use this filling technique, by using *SimpleImputer* class from *sklearn* package. The method *fit* from this class is used to replace the *nan* or *NaN* with values. For the removal technique, the method *dropna()* (*pandas.DataFrame.dropna*) can be used."
   ]
  },
  {
   "cell_type": "code",
   "execution_count": 6,
   "metadata": {},
   "outputs": [
    {
     "name": "stdout",
     "output_type": "stream",
     "text": [
      "--The X, BEFORE missing data is handled\n",
      "[['France' 44.0 72000.0]\n",
      " ['Spain' 27.0 48000.0]\n",
      " ['Germany' 30.0 54000.0]\n",
      " ['Spain' 38.0 61000.0]\n",
      " ['Germany' 40.0 nan]\n",
      " ['France' 35.0 58000.0]\n",
      " ['Spain' nan 52000.0]\n",
      " ['France' 48.0 79000.0]\n",
      " ['Germany' 50.0 83000.0]\n",
      " ['France' 37.0 67000.0]]\n",
      "--The X, AFTER missing data is handled\n",
      "[['France' 44.0 72000.0]\n",
      " ['Spain' 27.0 48000.0]\n",
      " ['Germany' 30.0 54000.0]\n",
      " ['Spain' 38.0 61000.0]\n",
      " ['Germany' 40.0 63777.77777777778]\n",
      " ['France' 35.0 58000.0]\n",
      " ['Spain' 38.77777777777778 52000.0]\n",
      " ['France' 48.0 79000.0]\n",
      " ['Germany' 50.0 83000.0]\n",
      " ['France' 37.0 67000.0]]\n"
     ]
    }
   ],
   "source": [
    "print(\"--The X, BEFORE missing data is handled\")\n",
    "print(X)\n",
    "\n",
    "from sklearn.impute import SimpleImputer\n",
    "myimputer = SimpleImputer(missing_values = np.nan, strategy = 'mean')\n",
    "myimputer = myimputer.fit(X[:, 1:3]) # all rows, but only column 1 and subsequent columns less than 3\n",
    "X[:, 1:3] = myimputer.transform(X[:, 1:3])\n",
    "print(\"--The X, AFTER missing data is handled\")\n",
    "print(X)"
   ]
  },
  {
   "cell_type": "markdown",
   "metadata": {},
   "source": [
    "You may want to save the dataset back to a CSV file, after filling all the missing data. Here is how to do it: "
   ]
  },
  {
   "cell_type": "code",
   "execution_count": 7,
   "metadata": {},
   "outputs": [],
   "source": [
    "Z = pdDataset.iloc[:, :].values # get all dataset into an numpy array size (10,4)\n",
    "myimputer = SimpleImputer(missing_values = np.nan, strategy='mean')\n",
    "myimputer = myimputer.fit(Z[:, 1:3]) # fit with Z col 1 to 2, i.e. Age and Salary\n",
    "Z[:, 1:3] = myimputer.transform(Z[:, 1:3])\n",
    "\n",
    "# now write to the CSV files with various styles\n",
    "pd.DataFrame(Z).to_csv(\"DataZ-0.csv\")\n",
    "pd.DataFrame(Z).to_csv(\"DataZ-1.csv\", header=None, index=None)\n",
    "pd.DataFrame(Z).to_csv(\"DataZ-2.csv\", header=['TheCountry','TheAge','TheSalary','Purchased'], index=None)"
   ]
  },
  {
   "attachments": {
    "image.png": {
     "image/png": "[encoded data removed]"
    }
   },
   "cell_type": "markdown",
   "metadata": {},
   "source": [
    "Here is the *DataZ-0.csv*:\n",
    "![image.png](attachment:image.png)"
   ]
  },
  {
   "attachments": {
    "image.png": {
     "image/png": "[encoded data removed]"
    }
   },
   "cell_type": "markdown",
   "metadata": {},
   "source": [
    "Here is the *DataZ-1.csv*:\n",
    "![image.png](attachment:image.png)"
   ]
  },
  {
   "attachments": {
    "image.png": {
     "image/png": "[encoded data removed]"
    }
   },
   "cell_type": "markdown",
   "metadata": {},
   "source": [
    "Here is the *DataZ-2.csv*:\n",
    "![image.png](attachment:image.png)"
   ]
  },
  {
   "cell_type": "markdown",
   "metadata": {},
   "source": [
    "### Step 4: Handling Categorical Data\n",
    "\n",
    "The feature array $X$ has categorical data in the form of string in col-0. This string variable cannot be included into a numerical data analysis performed by the machine. So we need to convert it into numerical data. Array $X$ has col-0 values *'France', 'Germany'* and *'Spain'*. We can make a label on this category, and encode them into numeric. Encoding is ordered based on alphabet. Please notice the col-0 of $X$, after conversion. We use *OneHotEncoder* class from *sklearn* package, and its *fit_transform()* method:\n"
   ]
  },
  {
   "cell_type": "code",
   "execution_count": 8,
   "metadata": {},
   "outputs": [
    {
     "name": "stdout",
     "output_type": "stream",
     "text": [
      "--The X: \n",
      " [['France' 44.0 72000.0]\n",
      " ['Spain' 27.0 48000.0]\n",
      " ['Germany' 30.0 54000.0]\n",
      " ['Spain' 38.0 61000.0]\n",
      " ['Germany' 40.0 63777.77777777778]\n",
      " ['France' 35.0 58000.0]\n",
      " ['Spain' 38.77777777777778 52000.0]\n",
      " ['France' 48.0 79000.0]\n",
      " ['Germany' 50.0 83000.0]\n",
      " ['France' 37.0 67000.0]]\n",
      "\n",
      "--The encoded Xcoded: \n",
      " [[1.0 0.0 0.0 44.0 72000.0]\n",
      " [0.0 0.0 1.0 27.0 48000.0]\n",
      " [0.0 1.0 0.0 30.0 54000.0]\n",
      " [0.0 0.0 1.0 38.0 61000.0]\n",
      " [0.0 1.0 0.0 40.0 63777.77777777778]\n",
      " [1.0 0.0 0.0 35.0 58000.0]\n",
      " [0.0 0.0 1.0 38.77777777777778 52000.0]\n",
      " [1.0 0.0 0.0 48.0 79000.0]\n",
      " [0.0 1.0 0.0 50.0 83000.0]\n",
      " [1.0 0.0 0.0 37.0 67000.0]]\n"
     ]
    }
   ],
   "source": [
    "from sklearn.preprocessing import OneHotEncoder\n",
    "print('--The X: \\n', X) # notice, we want to encode the col-0\n",
    "country = np.unique(X[:,0])  # get unique data from col-0, it is numpy array\n",
    "ohe = OneHotEncoder(categories=[country]) # object to create the encoder, type sklearn\n",
    "Xcol0 = ohe.fit_transform(X[:, 0:1]).toarray() # now col-0 is encoded, it is numpy array\n",
    "Xcoded = np.append(Xcol0, X[:, 1:3], axis=1) # now append the encoded one to the X (but only col-1 to col-2)\n",
    "print('\\n--The encoded Xcoded: \\n', Xcoded)"
   ]
  },
  {
   "cell_type": "markdown",
   "metadata": {},
   "source": [
    "We will also need to encode the outcome $y$ too:"
   ]
  },
  {
   "cell_type": "code",
   "execution_count": 9,
   "metadata": {},
   "outputs": [
    {
     "name": "stdout",
     "output_type": "stream",
     "text": [
      "--The y: \n",
      " ['No' 'Yes' 'No' 'No' 'Yes' 'Yes' 'No' 'Yes' 'No' 'Yes']\n",
      "\n",
      "--The encoded ycoded: \n",
      " [[1. 0.]\n",
      " [0. 1.]\n",
      " [1. 0.]\n",
      " [1. 0.]\n",
      " [0. 1.]\n",
      " [0. 1.]\n",
      " [1. 0.]\n",
      " [0. 1.]\n",
      " [1. 0.]\n",
      " [0. 1.]]\n"
     ]
    }
   ],
   "source": [
    "from sklearn.preprocessing import OneHotEncoder\n",
    "print('--The y: \\n', y)\n",
    "ycoded = np.reshape(y,(len(y),1)) # convert from (1,10) to (10,1), len(y) is 10\n",
    "purch = np.unique(ycoded[:,0]) # get unique data\n",
    "ohe = OneHotEncoder(categories=[purch]) # use it to create encoder object\n",
    "ycoded = ohe.fit_transform(ycoded[:, 0:1]).toarray() # encode to an array\n",
    "print('\\n--The encoded ycoded: \\n', ycoded)"
   ]
  },
  {
   "cell_type": "markdown",
   "metadata": {},
   "source": [
    ".\n",
    "\n",
    "**Dummy Variable Trap**\n",
    "\n",
    "Handling a categorical data can introduce a situation of dummy variable trap. If you notice the $Xcoded$, there are col-0, col-1 and col-2 as result of converting categorical variable into numerical variable. These additionally created 3 columns, actually bring duplicated information. Here are these 3 columns for all rows:"
   ]
  },
  {
   "cell_type": "code",
   "execution_count": 10,
   "metadata": {},
   "outputs": [
    {
     "name": "stdout",
     "output_type": "stream",
     "text": [
      "[[1.0 0.0 0.0 44.0 72000.0]\n",
      " [0.0 0.0 1.0 27.0 48000.0]\n",
      " [0.0 1.0 0.0 30.0 54000.0]\n",
      " [0.0 0.0 1.0 38.0 61000.0]\n",
      " [0.0 1.0 0.0 40.0 63777.77777777778]\n",
      " [1.0 0.0 0.0 35.0 58000.0]\n",
      " [0.0 0.0 1.0 38.77777777777778 52000.0]\n",
      " [1.0 0.0 0.0 48.0 79000.0]\n",
      " [0.0 1.0 0.0 50.0 83000.0]\n",
      " [1.0 0.0 0.0 37.0 67000.0]]\n"
     ]
    }
   ],
   "source": [
    "print(Xcoded[:,:])"
   ]
  },
  {
   "cell_type": "markdown",
   "metadata": {},
   "source": [
    "Col-0 can be seen as a dummy variable since the information contained is also contained by col-1 and col-2. Notice that col-0 will only be '1' when col-1 and col-2 are both '0'. So it is like a redundant information. The machine does not need col-0, as its impact on the outcome is the same as when col-1 and col-2 are both '0'. Keeping col-0 could trap the machine to process unnecessary data and slow down the process.\n",
    "\n",
    "From binary number encoding perspective, what is needed is to encode 3 categories (*France, Spain* and *Germany*), so 2 bits should be sufficient, which are represented by col-1 and col-2. Thus we can actually remove col-0:"
   ]
  },
  {
   "cell_type": "code",
   "execution_count": 11,
   "metadata": {},
   "outputs": [
    {
     "name": "stdout",
     "output_type": "stream",
     "text": [
      "--The Xcodedclean: \n",
      " [[0.0 0.0 44.0 72000.0]\n",
      " [0.0 1.0 27.0 48000.0]\n",
      " [1.0 0.0 30.0 54000.0]\n",
      " [0.0 1.0 38.0 61000.0]\n",
      " [1.0 0.0 40.0 63777.77777777778]\n",
      " [0.0 0.0 35.0 58000.0]\n",
      " [0.0 1.0 38.77777777777778 52000.0]\n",
      " [0.0 0.0 48.0 79000.0]\n",
      " [1.0 0.0 50.0 83000.0]\n",
      " [0.0 0.0 37.0 67000.0]]\n",
      "--Shape of Xcodedclean:  (10, 4)\n"
     ]
    }
   ],
   "source": [
    "# Now remove col-0, by retrieving only col-1 to the end\n",
    "Xcodedclean = Xcoded[:, 1:] # retrieve all rows, but only from col-1\n",
    "print(\"--The Xcodedclean: \\n\", Xcodedclean)\n",
    "print(\"--Shape of Xcodedclean: \", Xcodedclean.shape)"
   ]
  },
  {
   "cell_type": "markdown",
   "metadata": {},
   "source": [
    "The $Xcodedclean$ has been cleaned from the unnecessary dummy information. So let's transfer the $Xcodedclean$ back to the original feature array $X$, and also save it into a file. You can do the same way with the $y$ too."
   ]
  },
  {
   "cell_type": "code",
   "execution_count": 12,
   "metadata": {},
   "outputs": [],
   "source": [
    "X = Xcodedclean\n",
    "np.savetxt(\"Data-X.csv\", X, delimiter=\",\") # Let's save the X into a CSV"
   ]
  },
  {
   "cell_type": "markdown",
   "metadata": {},
   "source": [
    "\n",
    "### Step 5: Scaling The Variables\n",
    "\n",
    "If we look at the feature $X$ ( I have saved it into *Data-X.csv*), there is unscaled range of value between *Salary* and *Age* feature. \n",
    "The *Salary* is in the range of ten thousands, while the *Age* is no more than hundred. It can cause problem as the machine may ignore the *Age* due to its very low value as compared with the *Salary*. Scaling will not cause any loss of information, since the machine will learn more on its pattern and its relationship with the outcome, *Purchased*. Here is the original unscaled data and its plot:"
   ]
  },
  {
   "cell_type": "code",
   "execution_count": 13,
   "metadata": {},
   "outputs": [
    {
     "name": "stdout",
     "output_type": "stream",
     "text": [
      "--Statistic of X: \n",
      "              Age        Salary\n",
      "count  10.000000     10.000000\n",
      "mean   38.700000  63777.700000\n",
      "std     7.257946  11564.099408\n",
      "min    27.000000  48000.000000\n",
      "25%    35.500000  55000.000000\n",
      "50%    38.000000  62388.500000\n",
      "75%    43.000000  70750.000000\n",
      "max    50.000000  83000.000000\n"
     ]
    },
    {
     "data": {
      "image/png": "[encoded data removed]",
      "text/plain": [
       "<Figure size 432x288 with 1 Axes>"
      ]
     },
     "metadata": {
      "needs_background": "light"
     },
     "output_type": "display_data"
    }
   ],
   "source": [
    "# Print the statistic of X\n",
    "Xdf = pd.DataFrame({'Age':X[:,2], 'Salary':X[:,3]})\n",
    "print('--Statistic of X: \\n',Xdf.astype(int).describe()) # Use Xdf.astype(int).describe() instead of only Xdf.describe()\n",
    "\n",
    "# Plot the X\n",
    "plt.scatter(X[:,2],X[:,3])\n",
    "plt.title('Salary vs Age') \n",
    "plt.xlabel('Age')\n",
    "plt.ylabel('Salary')\n",
    "plt.grid()\n",
    "plt.show()"
   ]
  },
  {
   "cell_type": "markdown",
   "metadata": {},
   "source": [
    "There are many techniques for scaling provided by *sklearn*, the one we will use here is Standard Scaling (*StandardScaler*), which \"normalize\" the mean of the features to 0. Note that the machine is interested in predicting the impact of each independent variable to the outcome, not on the absolute value of the feature. So let us do the scaling, and then plot it:"
   ]
  },
  {
   "cell_type": "code",
   "execution_count": 14,
   "metadata": {},
   "outputs": [
    {
     "data": {
      "image/png": "[encoded data removed]",
      "text/plain": [
       "<Figure size 432x288 with 1 Axes>"
      ]
     },
     "metadata": {
      "needs_background": "light"
     },
     "output_type": "display_data"
    },
    {
     "name": "stdout",
     "output_type": "stream",
     "text": [
      "--Statistic of scaled X: \n",
      "              Age     Salary\n",
      "count  10.000000  10.000000\n",
      "mean    0.000000   0.000000\n",
      "std     0.666667   0.666667\n",
      "min    -1.000000  -1.000000\n",
      "25%     0.000000   0.000000\n",
      "50%     0.000000   0.000000\n",
      "75%     0.000000   0.000000\n",
      "max     1.000000   1.000000\n"
     ]
    }
   ],
   "source": [
    "from sklearn.preprocessing import StandardScaler\n",
    "scaler = StandardScaler() # create object, for calling its method\n",
    "Xscaled = scaler.fit_transform(X)    # fit first and then transform\n",
    "                                     # directly transform, as already fit previously\n",
    "                                     # fit with the same scaling                                   \n",
    "plt.scatter(Xscaled[:,2],Xscaled[:,3])\n",
    "plt.title('Salary vs Age'); plt.xlabel('Age'); plt.ylabel('Salary')\n",
    "plt.grid()\n",
    "plt.show()\n",
    "Xdf = pd.DataFrame({'Age':Xscaled[:,2], 'Salary':Xscaled[:,3]})        \n",
    "print('--Statistic of scaled X: \\n',Xdf.astype(int).describe()) # Use Xdf.astype(int).describe() \n",
    "                                                                # instead of only Xdf.describe()\n",
    "np.savetxt(\"Data-Xscaled.csv\", Xscaled, delimiter=\",\") # Let's save the Xscaled into a CSV"
   ]
  },
  {
   "cell_type": "markdown",
   "metadata": {},
   "source": [
    "Notice that the scaled $X$ now has mean = 0, and the STD = 0.666667, or variance = 0.49999, for both *Salary* and *Age*. If you compare both plots, you will notice that both have same pattern."
   ]
  },
  {
   "cell_type": "markdown",
   "metadata": {},
   "source": [
    "### Step 6: Training Data and Test Data\n",
    "\n",
    "Now we will split the dataset into *Training Data* and *Test Data*. Training Data is used to train the machine to  generate a model. The Test Data is used to test the generated model. How much is the test data set aside from the entire dataset? Typically is 20% (0.2). Here is the way to split the input dataset. Note that the split is for both predictor array and outcome array.\n",
    "The *X_train* and *y_train* are training data, and the *X_test* and *y_test* are test data. "
   ]
  },
  {
   "cell_type": "code",
   "execution_count": 15,
   "metadata": {},
   "outputs": [
    {
     "name": "stdout",
     "output_type": "stream",
     "text": [
      "--The X_train: \n",
      " [[ 1.52752523e+00 -6.54653671e-01  1.77608893e-01  6.63219199e-16]\n",
      " [-6.54653671e-01 -6.54653671e-01 -2.58340208e-01  2.93712492e-01]\n",
      " [-6.54653671e-01  1.52752523e+00 -1.71150388e+00 -1.43817841e+00]\n",
      " [-6.54653671e-01  1.52752523e+00  0.00000000e+00 -1.07356980e+00]\n",
      " [-6.54653671e-01 -6.54653671e-01  1.34013983e+00  1.38753832e+00]\n",
      " [-6.54653671e-01  1.52752523e+00 -1.13023841e-01 -2.53200424e-01]\n",
      " [-6.54653671e-01 -6.54653671e-01  7.58874362e-01  7.49473254e-01]\n",
      " [-6.54653671e-01 -6.54653671e-01 -5.48972942e-01 -5.26656882e-01]]\n",
      "--The X_test: \n",
      " [[ 1.52752523 -0.65465367 -1.27555478 -0.89126549]\n",
      " [ 1.52752523 -0.65465367  1.63077256  1.75214693]]\n",
      "--The y_train: \n",
      " ['Yes' 'Yes' 'Yes' 'No' 'Yes' 'No' 'No' 'Yes']\n",
      "--The y_test: \n",
      " ['No' 'No']\n"
     ]
    }
   ],
   "source": [
    "from sklearn.model_selection import train_test_split\n",
    "X_train, X_test, y_train, y_test = train_test_split(Xscaled, y, test_size=0.2, random_state=0)\n",
    "print(\"--The X_train: \\n\",X_train)\n",
    "print(\"--The X_test: \\n\",X_test)\n",
    "print(\"--The y_train: \\n\",y_train)\n",
    "print(\"--The y_test: \\n\",y_test)"
   ]
  },
  {
   "cell_type": "markdown",
   "metadata": {},
   "source": [
    "Now the dataset is ready for further data analysis for creating a model.<br>\n",
    "Not every step is necessary in preparing the input data. For example, in particular situation scaling the variable may not be necessary, as all variables are already in acceptable value range when compared each other. Or no need to deal with any dummy variable, as there is no categorical variable involved."
   ]
  },
  {
   "cell_type": "markdown",
   "metadata": {},
   "source": [
    "Resources for dataset are publicly available and can be learned from this article:<br>\n",
    "&emsp;https://www.dataquest.io/blog/free-datasets-for-projects/<br>\n",
    "&emsp;https://www.stats.govt.nz/large-datasets/csv-files-for-download/<br>\n",
    "\n",
    "Other useful tutorial resources: <br>\n",
    "&emsp;https://www.learnpython.org<br>\n",
    "&emsp;https://www.tutorialspoint.com/python_pandas/index.htm<br>\n",
    "\n",
    "The syntax rule for writing this Markdown text can be found here:<br>\n",
    "&emsp;https://help.github.com/en/articles/basic-writing-and-formatting-syntax"
   ]
  },
  {
   "cell_type": "markdown",
   "metadata": {},
   "source": [
    "Resources for the packages:<br>\n",
    "&emsp;numpy:<br> \n",
    "&emsp;&emsp;https://numpy.org/devdocs/user/quickstart.html<br>\n",
    "&emsp;&emsp;https://numpy.org/index.html<br>\n",
    "&emsp;panda:<br> \n",
    "&emsp;&emsp;https://pandas.pydata.org/index.html<br>\n",
    "&emsp;&emsp;https://pandas.pydata.org/pandas-docs/stable/getting_started/tutorials.html<br>\n",
    "&emsp;matplotlib:<br> \n",
    "&emsp;&emsp;https://matplotlib.org/tutorials/index.html<br>\n",
    "&emsp;scikit-learn:<br> \n",
    "&emsp;&emsp;https://scikit-learn.org/stable/#<br>"
   ]
  },
  {
   "cell_type": "markdown",
   "metadata": {},
   "source": [
    "Author: Chebron Padmanaba"
   ]
  }
 ],
 "metadata": {
  "kernelspec": {
   "display_name": "Python 3 (ipykernel)",
   "language": "python",
   "name": "python3"
  },
  "language_info": {
   "codemirror_mode": {
    "name": "ipython",
    "version": 3
   },
   "file_extension": ".py",
   "mimetype": "text/x-python",
   "name": "python",
   "nbconvert_exporter": "python",
   "pygments_lexer": "ipython3",
   "version": "3.9.7"
  }
 },
 "nbformat": 4,
 "nbformat_minor": 2
}
